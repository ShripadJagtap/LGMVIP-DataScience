{
  "cells": [
    {
      "cell_type": "markdown",
      "metadata": {
        "id": "view-in-github",
        "colab_type": "text"
      },
      "source": [
        "<a href=\"https://colab.research.google.com/github/ShripadJagtap/LGMVIP-DataScience/blob/main/LGMVIP_TASK8.ipynb\" target=\"_parent\"><img src=\"https://colab.research.google.com/assets/colab-badge.svg\" alt=\"Open In Colab\"/></a>"
      ]
    },
    {
      "cell_type": "markdown",
      "metadata": {
        "id": "B7LaWPS_s9-9"
      },
      "source": [
        "**NAME: SHRIPAD JAGTAP**\n"
      ]
    },
    {
      "cell_type": "markdown",
      "metadata": {
        "id": "2RkKdh5Wsg7I"
      },
      "source": [
        "**DATA SCIENCE INTERN AT LETSGROWMORE LGMVIPDECEMBER**\n",
        "\n"
      ]
    },
    {
      "cell_type": "markdown",
      "metadata": {
        "id": "iS05PNxCs3rx"
      },
      "source": [
        "**ADVANCED LEVEL TASK 2 : Next Word Prediction**"
      ]
    },
    {
      "cell_type": "markdown",
      "metadata": {
        "id": "gEKmJJhG55S4"
      },
      "source": [
        "\n",
        "\n",
        "> \n",
        "\n"
      ]
    },
    {
      "cell_type": "markdown",
      "metadata": {
        "id": "BdvL7n4-5qRm"
      },
      "source": [
        "***STEP 1: IMPORT ALL THE REQUIRED PYTHON LIBRARIES***"
      ]
    },
    {
      "cell_type": "code",
      "execution_count": null,
      "metadata": {
        "id": "WRLDcYoD58Jm"
      },
      "outputs": [],
      "source": [
        "import numpy as np\n",
        "from nltk.tokenize import RegexpTokenizer\n",
        "from tensorflow.keras.models import Sequential, load_model\n",
        "from tensorflow.keras.layers import LSTM\n",
        "from keras.layers.core import Dense, Activation\n",
        "from tensorflow.keras.optimizers import RMSprop\n",
        "import matplotlib.pyplot as plt\n",
        "import pickle\n",
        "import heapq"
      ]
    },
    {
      "cell_type": "code",
      "execution_count": null,
      "metadata": {
        "colab": {
          "base_uri": "https://localhost:8080/"
        },
        "id": "zOskeLkI5-Td",
        "outputId": "c39fa68a-7e6b-4431-e7f1-a5513e39674a"
      },
      "outputs": [
        {
          "name": "stdout",
          "output_type": "stream",
          "text": [
            "corpus length: 581888\n"
          ]
        }
      ],
      "source": [
        "text = open('1661-0.txt' ,encoding ='UTF-8').read().lower()\n",
        "print('corpus length:', len(text))"
      ]
    },
    {
      "cell_type": "code",
      "execution_count": null,
      "metadata": {
        "id": "LDIhBB_w6Hc9"
      },
      "outputs": [],
      "source": [
        "tokenizer = RegexpTokenizer(r'\\w+')\n",
        "words = tokenizer.tokenize(text)"
      ]
    },
    {
      "cell_type": "code",
      "execution_count": null,
      "metadata": {
        "id": "if6Agq926JWn"
      },
      "outputs": [],
      "source": [
        "unique_words = np.unique(words)\n",
        "unique_word_index = dict((c, i) for i, c in enumerate(unique_words))"
      ]
    },
    {
      "cell_type": "code",
      "execution_count": null,
      "metadata": {
        "colab": {
          "base_uri": "https://localhost:8080/"
        },
        "id": "mtFU7ARD6Ljd",
        "outputId": "12a4c0eb-f392-4c2c-9544-585ec41914bc"
      },
      "outputs": [
        {
          "name": "stdout",
          "output_type": "stream",
          "text": [
            "['project', 'gutenberg', 's', 'the', 'adventures']\n",
            "of\n"
          ]
        }
      ],
      "source": [
        "WORD_LENGTH = 5\n",
        "prev_words = []\n",
        "next_words = []\n",
        "for i in range(len(words) - WORD_LENGTH):\n",
        "    prev_words.append(words[i:i + WORD_LENGTH])\n",
        "    next_words.append(words[i + WORD_LENGTH])\n",
        "print(prev_words[0])\n",
        "print(next_words[0])"
      ]
    },
    {
      "cell_type": "code",
      "execution_count": null,
      "metadata": {
        "id": "MoQSCFyZ6NvW"
      },
      "outputs": [],
      "source": [
        "X = np.zeros((len(prev_words), WORD_LENGTH, len(unique_words)), dtype=bool)\n",
        "Y = np.zeros((len(next_words), len(unique_words)), dtype=bool)\n",
        "for i, each_words in enumerate(prev_words):\n",
        "    for j, each_word in enumerate(each_words):\n",
        "        X[i, j, unique_word_index[each_word]] = 1\n",
        "    Y[i, unique_word_index[next_words[i]]] = 1"
      ]
    },
    {
      "cell_type": "code",
      "execution_count": null,
      "metadata": {
        "colab": {
          "base_uri": "https://localhost:8080/"
        },
        "id": "3VUqSaHg6P6m",
        "outputId": "e0f735f2-9b07-451b-fa55-d2e0ddf8e256"
      },
      "outputs": [
        {
          "name": "stdout",
          "output_type": "stream",
          "text": [
            "[False False False ... False False False]\n"
          ]
        }
      ],
      "source": [
        "print(X[0][0])"
      ]
    },
    {
      "cell_type": "code",
      "execution_count": null,
      "metadata": {
        "id": "vHPitgW06RoN"
      },
      "outputs": [],
      "source": [
        "model = Sequential()\n",
        "model.add(LSTM(128, input_shape=(WORD_LENGTH, len(unique_words))))\n",
        "model.add(Dense(len(unique_words)))\n",
        "model.add(Activation('softmax'))"
      ]
    },
    {
      "cell_type": "code",
      "execution_count": null,
      "metadata": {
        "colab": {
          "background_save": true,
          "base_uri": "https://localhost:8080/"
        },
        "id": "LlLuM8zk6TYV",
        "outputId": "92671835-7fd1-4c4a-ad59-ee345bd5f176"
      },
      "outputs": [
        {
          "name": "stderr",
          "output_type": "stream",
          "text": [
            "/usr/local/lib/python3.7/dist-packages/keras/optimizer_v2/rmsprop.py:130: UserWarning: The `lr` argument is deprecated, use `learning_rate` instead.\n",
            "  super(RMSprop, self).__init__(name, **kwargs)\n"
          ]
        },
        {
          "name": "stdout",
          "output_type": "stream",
          "text": [
            "Epoch 1/10\n",
            "811/811 [==============================] - 281s 339ms/step - loss: 6.0093 - accuracy: 0.1072 - val_loss: 7.1096 - val_accuracy: 0.0969\n",
            "Epoch 2/10\n",
            "811/811 [==============================] - 268s 331ms/step - loss: 5.7746 - accuracy: 0.1480 - val_loss: 7.8960 - val_accuracy: 0.1069\n",
            "Epoch 3/10\n",
            "811/811 [==============================] - 269s 331ms/step - loss: 5.7591 - accuracy: 0.1774 - val_loss: 7.9564 - val_accuracy: 0.1025\n",
            "Epoch 4/10\n",
            "811/811 [==============================] - 267s 329ms/step - loss: 5.4460 - accuracy: 0.2115 - val_loss: 8.0718 - val_accuracy: 0.1073\n",
            "Epoch 5/10\n",
            "811/811 [==============================] - 265s 326ms/step - loss: 5.1221 - accuracy: 0.2514 - val_loss: 8.5189 - val_accuracy: 0.0943\n",
            "Epoch 6/10\n",
            "811/811 [==============================] - 264s 325ms/step - loss: 4.8364 - accuracy: 0.2911 - val_loss: 8.6039 - val_accuracy: 0.0862\n",
            "Epoch 7/10\n",
            "811/811 [==============================] - 262s 324ms/step - loss: 4.5702 - accuracy: 0.3307 - val_loss: 8.6541 - val_accuracy: 0.0884\n",
            "Epoch 8/10\n",
            "811/811 [==============================] - 262s 323ms/step - loss: 4.3486 - accuracy: 0.3700 - val_loss: 8.8713 - val_accuracy: 0.0804\n",
            "Epoch 9/10\n",
            "811/811 [==============================] - 260s 321ms/step - loss: 4.1588 - accuracy: 0.4030 - val_loss: 8.9858 - val_accuracy: 0.0769\n",
            "Epoch 10/10\n",
            "811/811 [==============================] - 263s 324ms/step - loss: 3.9984 - accuracy: 0.4368 - val_loss: 9.1142 - val_accuracy: 0.0734\n"
          ]
        }
      ],
      "source": [
        "optimizer = RMSprop(lr=0.01)\n",
        "model.compile(loss='categorical_crossentropy', optimizer=optimizer, metrics=['accuracy'])\n",
        "history = model.fit(X, Y, validation_split=0.05, batch_size=128, epochs=10, shuffle=True).history"
      ]
    },
    {
      "cell_type": "code",
      "source": [
        "history"
      ],
      "metadata": {
        "colab": {
          "base_uri": "https://localhost:8080/"
        },
        "id": "wq-Oda24MhLD",
        "outputId": "c3fe4300-a27b-4eb3-b002-bf1a745aa3ac"
      },
      "execution_count": null,
      "outputs": [
        {
          "output_type": "execute_result",
          "data": {
            "text/plain": [
              "{'accuracy': [0.10722925513982773,\n",
              "  0.1480160802602768,\n",
              "  0.17744003236293793,\n",
              "  0.21153827011585236,\n",
              "  0.2514384388923645,\n",
              "  0.2910783588886261,\n",
              "  0.3306701183319092,\n",
              "  0.3699919879436493,\n",
              "  0.4029722809791565,\n",
              "  0.4367910325527191],\n",
              " 'loss': [6.009273529052734,\n",
              "  5.7746100425720215,\n",
              "  5.759146690368652,\n",
              "  5.446016788482666,\n",
              "  5.122065544128418,\n",
              "  4.836440563201904,\n",
              "  4.570178031921387,\n",
              "  4.348612308502197,\n",
              "  4.158755302429199,\n",
              "  3.9984357357025146],\n",
              " 'val_accuracy': [0.09685096889734268,\n",
              "  0.10692054033279419,\n",
              "  0.10252654552459717,\n",
              "  0.10728670656681061,\n",
              "  0.09428780525922775,\n",
              "  0.08623214811086655,\n",
              "  0.08842914551496506,\n",
              "  0.08037348836660385,\n",
              "  0.07689490914344788,\n",
              "  0.0734163299202919],\n",
              " 'val_loss': [7.109564304351807,\n",
              "  7.8959832191467285,\n",
              "  7.9564433097839355,\n",
              "  8.071798324584961,\n",
              "  8.51893424987793,\n",
              "  8.603937149047852,\n",
              "  8.654069900512695,\n",
              "  8.871297836303711,\n",
              "  8.98579216003418,\n",
              "  9.114237785339355]}"
            ]
          },
          "metadata": {},
          "execution_count": 10
        }
      ]
    },
    {
      "cell_type": "code",
      "source": [
        "plt.plot(history['accuracy'])\n",
        "plt.plot(history['val_accuracy'])\n",
        "plt.title('model accuracy')\n",
        "plt.ylabel('accuracy')\n",
        "plt.xlabel('epoch')\n",
        "plt.legend(['train', 'test'], loc='upper left')"
      ],
      "metadata": {
        "colab": {
          "base_uri": "https://localhost:8080/",
          "height": 312
        },
        "id": "A2dN3Wr5MnJS",
        "outputId": "c5b57af0-399e-4381-b8f7-8b1327c3ca06"
      },
      "execution_count": null,
      "outputs": [
        {
          "output_type": "execute_result",
          "data": {
            "text/plain": [
              "<matplotlib.legend.Legend at 0x7f8a05ed2c90>"
            ]
          },
          "metadata": {},
          "execution_count": 11
        },
        {
          "output_type": "display_data",
          "data": {
            "image/png": "[encoded data removed]",
            "text/plain": [
              "<Figure size 432x288 with 1 Axes>"
            ]
          },
          "metadata": {
            "needs_background": "light"
          }
        }
      ]
    },
    {
      "cell_type": "code",
      "source": [
        "plt.plot(history['loss'])\n",
        "plt.plot(history['val_loss'])\n",
        "plt.title('model loss')\n",
        "plt.ylabel('loss')\n",
        "plt.xlabel('epoch')\n",
        "plt.legend(['train', 'test'], loc='upper left')"
      ],
      "metadata": {
        "colab": {
          "base_uri": "https://localhost:8080/",
          "height": 312
        },
        "id": "jsT9_9KfMpRT",
        "outputId": "be58e341-0c95-440e-9176-baff903ddb49"
      },
      "execution_count": null,
      "outputs": [
        {
          "output_type": "execute_result",
          "data": {
            "text/plain": [
              "<matplotlib.legend.Legend at 0x7f8a094d8810>"
            ]
          },
          "metadata": {},
          "execution_count": 12
        },
        {
          "output_type": "display_data",
          "data": {
            "image/png": "[encoded data removed]",
            "text/plain": [
              "<Figure size 432x288 with 1 Axes>"
            ]
          },
          "metadata": {
            "needs_background": "light"
          }
        }
      ]
    },
    {
      "cell_type": "code",
      "source": [
        "def prepare_input(text):\n",
        "    x = np.zeros((1, WORD_LENGTH, len(unique_words)))\n",
        "    for t, word in enumerate(text.split()):\n",
        "        print(word)\n",
        "        x[0, t, unique_word_index[word]] = 1\n",
        "    return x\n",
        "prepare_input(\"It is not a lack\".lower())"
      ],
      "metadata": {
        "colab": {
          "base_uri": "https://localhost:8080/"
        },
        "id": "4tPf7V1aMqyj",
        "outputId": "59f0ab88-6328-4c09-b15f-4bd3ac3729fb"
      },
      "execution_count": null,
      "outputs": [
        {
          "output_type": "stream",
          "name": "stdout",
          "text": [
            "it\n",
            "is\n",
            "not\n",
            "a\n",
            "lack\n"
          ]
        },
        {
          "output_type": "execute_result",
          "data": {
            "text/plain": [
              "array([[[0., 0., 0., ..., 0., 0., 0.],\n",
              "        [0., 0., 0., ..., 0., 0., 0.],\n",
              "        [0., 0., 0., ..., 0., 0., 0.],\n",
              "        [0., 0., 0., ..., 0., 0., 0.],\n",
              "        [0., 0., 0., ..., 0., 0., 0.]]])"
            ]
          },
          "metadata": {},
          "execution_count": 13
        }
      ]
    },
    {
      "cell_type": "code",
      "source": [
        "def sample(preds, top_n=3):\n",
        "    preds = np.asarray(preds).astype('float64')\n",
        "    preds = np.log(preds)\n",
        "    exp_preds = np.exp(preds)\n",
        "    preds = exp_preds / np.sum(exp_preds)\n",
        "\n",
        "    return heapq.nlargest(top_n, range(len(preds)), preds.take)"
      ],
      "metadata": {
        "id": "6wCvr3F-Mtqb"
      },
      "execution_count": null,
      "outputs": []
    },
    {
      "cell_type": "code",
      "source": [
        "def predict_completions(text, n=3):\n",
        "    if text == \"\":\n",
        "        return(\"0\")\n",
        "    x = prepare_input(text)\n",
        "    preds = model.predict(x, verbose=0)[0]\n",
        "    next_indices = sample(preds, n)\n",
        "    return [unique_words[idx] for idx in next_indices]"
      ],
      "metadata": {
        "id": "ZQoQSRNEMvVS"
      },
      "execution_count": null,
      "outputs": []
    },
    {
      "cell_type": "code",
      "source": [
        "q =  \"There is nothing more deceptive than an obvious fact\"\n",
        "print(\"correct sentence: \",q)\n",
        "seq = \" \".join(tokenizer.tokenize(q.lower())[0:5])\n",
        "print(\"Sequence: \",seq)\n",
        "print(\"next possible words: \", predict_completions(seq, 5))"
      ],
      "metadata": {
        "id": "eibpo5QOMxCq",
        "outputId": "59d55e5a-deea-420a-c04f-1d4ce8e0ffca",
        "colab": {
          "base_uri": "https://localhost:8080/"
        }
      },
      "execution_count": null,
      "outputs": [
        {
          "output_type": "stream",
          "name": "stdout",
          "text": [
            "correct sentence:  There is nothing more deceptive than an obvious fact\n",
            "Sequence:  there is nothing more deceptive\n",
            "there\n",
            "is\n",
            "nothing\n",
            "more\n",
            "deceptive\n",
            "next possible words:  ['than', 'a', 'said', 'other', 'if']\n"
          ]
        }
      ]
    }
  ],
  "metadata": {
    "colab": {
      "name": "LGMVIP_TASK8.ipynb",
      "provenance": [],
      "authorship_tag": "ABX9TyMJzsCJawZDC50z3iGeIOuX",
      "include_colab_link": true
    },
    "kernelspec": {
      "display_name": "Python 3",
      "name": "python3"
    },
    "language_info": {
      "name": "python"
    }
  },
  "nbformat": 4,
  "nbformat_minor": 0
}